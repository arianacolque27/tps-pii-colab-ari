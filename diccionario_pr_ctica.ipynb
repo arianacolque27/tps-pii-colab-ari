{
  "nbformat": 4,
  "nbformat_minor": 0,
  "metadata": {
    "colab": {
      "provenance": [],
      "include_colab_link": true
    },
    "kernelspec": {
      "name": "python3",
      "display_name": "Python 3"
    },
    "language_info": {
      "name": "python"
    }
  },
  "cells": [
    {
      "cell_type": "markdown",
      "metadata": {
        "id": "view-in-github",
        "colab_type": "text"
      },
      "source": [
        "<a href=\"https://colab.research.google.com/github/arianacolque27/tps-pii-colab-ari/blob/main/diccionario_pr_ctica.ipynb\" target=\"_parent\"><img src=\"https://colab.research.google.com/assets/colab-badge.svg\" alt=\"Open In Colab\"/></a>"
      ]
    },
    {
      "cell_type": "code",
      "execution_count": null,
      "metadata": {
        "id": "8VOD-zpMJovw"
      },
      "outputs": [],
      "source": [
        "# Listas de alumnos\n",
        "estudiantes_5d = [\n",
        "   (\"Alurralde, Solange Stefania\",\"D\",\"02/04/2007\"),\n",
        "   (\"Alvarado, Ludmila Del Milagro\",\"D\",\"06/09/2006\"),\n",
        "   (\"Angel, Camila Juliana\",\"D\",\"07/03/2007\"),\n",
        "   (\"Arenas, Lucas Gabriel\",\"D\",\"26/06/2007\"),\n",
        "   (\"Caseres, Maria Antonia\",\"D\",\"01/07/2006\"),\n",
        "   (\"Castillo, Paulina Milagros\",\"D\",\"01/06/2007\"),\n",
        "   (\"Correa Segovia, Hugo Mariano\",\"D\",\"04/12/2006\"),\n",
        "   (\"D Elia, Alvaro Tadeo\",\"D\",\"27/08/2006\"),\n",
        "   (\"Flores, Victoria Agustina\",\"D\",\"12/12/2006\"),\n",
        "   (\"Geronimo Soriano, Lizzie Amaya\",\"D\",\"20/01/2007\"),\n",
        "   (\"GUZMAN, ANGÉLICA MORENA\",\"D\",\"11/04/2007\"),\n",
        "   (\"Guzman, Jazmin Esmeralda Belen\",\"D\",\"31/07/2006\"),\n",
        "   (\"Jaime, Anita Maria Belen\",\"D\",\"19/04/2007\"),\n",
        "   (\"Lacour Polo, Nazarena\",\"D\",\"19/12/2005\"),\n",
        "   (\"Lascano Guanca, Marcelo Fabricio\",\"D\",\"17/02/2006\"),\n",
        "   (\"Lezcano, Celia Morena\",\"D\",\"01/07/2005\"),\n",
        "   (\"Martinez, Tomas Andres\",\"D\",\"22/03/2007\"),\n",
        "   (\"PORTELLA VALDIVIA, PEDRO FRANCISCO\",\"D\",\"24/01/2007\"),\n",
        "   (\"Retamal Cisneros, Zacarias Josue\",\"D\",\"24/02/2007\"),\n",
        "   (\"Rosales, Francisco Gabriel\",\"D\",\"14/11/2006\"),\n",
        "   (\"Salem Barba, Mahia\",\"D\",\"14/10/2005\"),\n",
        "   (\"Soto Camara, Agustin Ignacio\",\"D\",\"07/11/2005\"),\n",
        "   (\"Villalba, Irina\",\"D\",\"09/09/2006\"),\n",
        "   (\"Voltolini, Emanuel Tobias\",\"D\",\"17/09/2006\"),\n",
        "   (\"Zalazar, Santino Stefano\",\"D\",\"30/09/2006\")\n",
        "]\n",
        "\n",
        "estudiantes_5c=[\n",
        "    (\"ABUD LASPIUR, LOURDES MARIEL\",\"C\",\"05/12/2006\"),\n",
        "    (\"Amador, Luana Micaela\",\"C\",\"09/12/2006\"),\n",
        "    (\"Anaquin, Leonardo Ezequiel\",\"C\",\"06/09/2005\"),\n",
        "    (\"Araoz Sanchez, Lautaro Nahuel\",\"C\",\"28/12/2005\"),\n",
        "    (\"Argañaraz, Agostina Abril\",\"C\",\"11/10/2006\"),\n",
        "    (\"Barrera, Matias Ezequiel\",\"C\",\"27/02/2007\"),\n",
        "    (\"Barrozo Vedia, Joaquin Nicolas\",\"C\",\"15/04/2006\"),\n",
        "    (\"Bettinelli, Valentino\",\"C\",\"12/07/2006\"),\n",
        "    (\"Bracamonte Martinez, Salvador\",\"C\",\"02/11/2005\"),\n",
        "    (\"Colque Rivero, Ariana Zoe Del Valle\",\"C\",\"27/12/2006\"),\n",
        "    (\"Diaz, Dulce Maitena\",\"C\",\"11/12/2006\"),\n",
        "    (\"FIGUEROA, SANTINO JOSUE\",\"C\",\"12/05/2007\"),\n",
        "    (\"Flores Cardozo, Agustina Tiara\",\"C\",\"18/03/2006\"),\n",
        "    (\"Gallo, Octavio Ismael\",\"C\",\"04/08/2006\"),\n",
        "    (\"Galvan, Lourdes Yamila\",\"C\",\"19/08/2005\"),\n",
        "    (\"Giangreco, Vitto Tomasso\",\"C\",\"21/03/2007\"),\n",
        "    (\"Grancara, Martina Luna\",\"C\",\"15/12/2006\"),\n",
        "    (\"Guanca, Sara Elizabeth\",\"C\",\"17/01/2007\"),\n",
        "    (\"Lopez, Victoria Constanza\",\"C\",\"12/11/2007\"),\n",
        "    (\"Mamani Garrido, Rosario Agostina\",\"C\",\"24/10/2006\"),\n",
        "    (\"Marinaro, Martin Ezequiel\",\"C\",\"03/11/2006\"),\n",
        "    (\"Merluzzi Dagum, Ignacio\",\"C\",\"22/12/2005\"),\n",
        "    (\"Messina, Martina\",\"C\",\"13/07/2005\"),\n",
        "    (\"RASUK, KARIM\", \"C\",\"13/07/2007\"),\n",
        "    (\"Rios, Lucia Magali\",\"C\",\"22/09/2006\"),\n",
        "    (\"Sanchez Flores, Matías Agustín\",\"C\",\"15/02/2007\"),\n",
        "    (\"Scarano, Renato Marcelo\",\"C\",\"06/12/2006\"),\n",
        "    (\"Sierra, Lucas Mauricio\",\"C\",\"03/04/2005\"),\n",
        "    (\"Tapia, Martin Gabriel\",\"C\",\"30/05/2006\"),\n",
        "    (\"Vilte, Mia Antonella Alondra\",\"C\",\"10/09/2005\"),\n",
        "    (\"Virgillito, Katya Milena\",\"C\",\"19/06/2007\")\n",
        "]"
      ]
    },
    {
      "cell_type": "markdown",
      "source": [
        "## Dada la lista estudiantes:\n",
        "> - Hacer una celda para resolver cada punto.\n",
        "- El TP resuelto será revisado en tu repositorio, no es necesario que lo envíes, pero sí que lo pushees correctamente.\n",
        "- En la nota inicial se contempla:\n",
        "  - La incorporación de este documento a tu propio respositorio.\n",
        "  - El pusheo de los cambios realizados.\n",
        "  - La resolución de los ejercicios propuestos.\n"
      ],
      "metadata": {
        "id": "rd6Ug6v3J4uN"
      }
    },
    {
      "cell_type": "markdown",
      "source": [
        "1. Reemplaza todos los valores del nombre por los que obtengas del método title(). De esta manera las listas quedaran con los datos más homogéneos."
      ],
      "metadata": {
        "id": "wRLng-uURyJ3"
      }
    },
    {
      "cell_type": "code",
      "source": [
        "estudiantes = []\n",
        "for i in range(len(estudiantes_5c)):\n",
        "  nombre, divi, fecha_nac=estudiantes_5c[i]\n",
        "  estudiantes.append((nombre.title(),divi,fecha_nac))\n",
        "for i in range(len(estudiantes_5d)):\n",
        "  nombre, divi, fecha_nac=estudiantes_5c[i]\n",
        "  estudiantes.append((nombre.title(),divi, fecha_nac))\n",
        "for estudiante in estudiantes:\n",
        "  print(estudiante)"
      ],
      "metadata": {
        "id": "5lFqJoTaSIWi",
        "colab": {
          "base_uri": "https://localhost:8080/"
        },
        "outputId": "2e3b96af-7bfb-417c-e03e-18d92dc1942e"
      },
      "execution_count": null,
      "outputs": [
        {
          "output_type": "stream",
          "name": "stdout",
          "text": [
            "('Abud Laspiur, Lourdes Mariel', 'C', '05/12/2006')\n",
            "('Amador, Luana Micaela', 'C', '09/12/2006')\n",
            "('Anaquin, Leonardo Ezequiel', 'C', '06/09/2005')\n",
            "('Araoz Sanchez, Lautaro Nahuel', 'C', '28/12/2005')\n",
            "('Argañaraz, Agostina Abril', 'C', '11/10/2006')\n",
            "('Barrera, Matias Ezequiel', 'C', '27/02/2007')\n",
            "('Barrozo Vedia, Joaquin Nicolas', 'C', '15/04/2006')\n",
            "('Bettinelli, Valentino', 'C', '12/07/2006')\n",
            "('Bracamonte Martinez, Salvador', 'C', '02/11/2005')\n",
            "('Colque Rivero, Ariana Zoe Del Valle', 'C', '27/12/2006')\n",
            "('Diaz, Dulce Maitena', 'C', '11/12/2006')\n",
            "('Figueroa, Santino Josue', 'C', '12/05/2007')\n",
            "('Flores Cardozo, Agustina Tiara', 'C', '18/03/2006')\n",
            "('Gallo, Octavio Ismael', 'C', '04/08/2006')\n",
            "('Galvan, Lourdes Yamila', 'C', '19/08/2005')\n",
            "('Giangreco, Vitto Tomasso', 'C', '21/03/2007')\n",
            "('Grancara, Martina Luna', 'C', '15/12/2006')\n",
            "('Guanca, Sara Elizabeth', 'C', '17/01/2007')\n",
            "('Lopez, Victoria Constanza', 'C', '12/11/2007')\n",
            "('Mamani Garrido, Rosario Agostina', 'C', '24/10/2006')\n",
            "('Marinaro, Martin Ezequiel', 'C', '03/11/2006')\n",
            "('Merluzzi Dagum, Ignacio', 'C', '22/12/2005')\n",
            "('Messina, Martina', 'C', '13/07/2005')\n",
            "('Rasuk, Karim', 'C', '13/07/2007')\n",
            "('Rios, Lucia Magali', 'C', '22/09/2006')\n",
            "('Sanchez Flores, Matías Agustín', 'C', '15/02/2007')\n",
            "('Scarano, Renato Marcelo', 'C', '06/12/2006')\n",
            "('Sierra, Lucas Mauricio', 'C', '03/04/2005')\n",
            "('Tapia, Martin Gabriel', 'C', '30/05/2006')\n",
            "('Vilte, Mia Antonella Alondra', 'C', '10/09/2005')\n",
            "('Virgillito, Katya Milena', 'C', '19/06/2007')\n",
            "('Abud Laspiur, Lourdes Mariel', 'C', '05/12/2006')\n",
            "('Amador, Luana Micaela', 'C', '09/12/2006')\n",
            "('Anaquin, Leonardo Ezequiel', 'C', '06/09/2005')\n",
            "('Araoz Sanchez, Lautaro Nahuel', 'C', '28/12/2005')\n",
            "('Argañaraz, Agostina Abril', 'C', '11/10/2006')\n",
            "('Barrera, Matias Ezequiel', 'C', '27/02/2007')\n",
            "('Barrozo Vedia, Joaquin Nicolas', 'C', '15/04/2006')\n",
            "('Bettinelli, Valentino', 'C', '12/07/2006')\n",
            "('Bracamonte Martinez, Salvador', 'C', '02/11/2005')\n",
            "('Colque Rivero, Ariana Zoe Del Valle', 'C', '27/12/2006')\n",
            "('Diaz, Dulce Maitena', 'C', '11/12/2006')\n",
            "('Figueroa, Santino Josue', 'C', '12/05/2007')\n",
            "('Flores Cardozo, Agustina Tiara', 'C', '18/03/2006')\n",
            "('Gallo, Octavio Ismael', 'C', '04/08/2006')\n",
            "('Galvan, Lourdes Yamila', 'C', '19/08/2005')\n",
            "('Giangreco, Vitto Tomasso', 'C', '21/03/2007')\n",
            "('Grancara, Martina Luna', 'C', '15/12/2006')\n",
            "('Guanca, Sara Elizabeth', 'C', '17/01/2007')\n",
            "('Lopez, Victoria Constanza', 'C', '12/11/2007')\n",
            "('Mamani Garrido, Rosario Agostina', 'C', '24/10/2006')\n",
            "('Marinaro, Martin Ezequiel', 'C', '03/11/2006')\n",
            "('Merluzzi Dagum, Ignacio', 'C', '22/12/2005')\n",
            "('Messina, Martina', 'C', '13/07/2005')\n",
            "('Rasuk, Karim', 'C', '13/07/2007')\n",
            "('Rios, Lucia Magali', 'C', '22/09/2006')\n"
          ]
        }
      ]
    },
    {
      "cell_type": "markdown",
      "source": [
        "2. Genera una lista de diccionarios con los datos de las listas, donde las claves de los mismos serán:\n",
        "- \"apellido\"\n",
        "- \"nombre\"\n",
        "- \"curso\"\n",
        "- \"division\"\n",
        "- \"feha_de_nacimiento\"\n",
        "\n",
        "Muestra la información generada."
      ],
      "metadata": {
        "id": "dYEGkYZyLy9I"
      }
    },
    {
      "cell_type": "code",
      "source": [
        "lista_dict=[]\n",
        "for estudiante in estudiantes:\n",
        "   nombre_completo, division, fecha_nacimiento=estudiante\n",
        "   apellido, nombre=nombre_completo.split(\",\")\n",
        "   nombre=nombre.strip()\n",
        "   diccionario=[]\n",
        "   diccionario[\"nombre\"]=nombre\n",
        "   diccionario[\"apellido\"] = apellido\n",
        "   diccionario[\"division\"]=division\n",
        "   diccionario[\"curso\"]=5\n",
        "   diccionario[\"fecha_nacimiento\"]=fecha_nacimiento\n",
        "   lista_dict.append(diccionario)\n",
        "for estudiante in lista_dict:\n",
        "   print(estudiante)"
      ],
      "metadata": {
        "id": "FnahgG_QMpgW",
        "colab": {
          "base_uri": "https://localhost:8080/",
          "height": 332
        },
        "outputId": "b755003a-68c2-4ea5-dde3-ceb4b23b9178"
      },
      "execution_count": null,
      "outputs": [
        {
          "output_type": "error",
          "ename": "TypeError",
          "evalue": "list indices must be integers or slices, not str",
          "traceback": [
            "\u001b[0;31m---------------------------------------------------------------------------\u001b[0m",
            "\u001b[0;31mTypeError\u001b[0m                                 Traceback (most recent call last)",
            "\u001b[0;32m<ipython-input-12-8974dd454e29>\u001b[0m in \u001b[0;36m<cell line: 2>\u001b[0;34m()\u001b[0m\n\u001b[1;32m      5\u001b[0m    \u001b[0mnombre\u001b[0m\u001b[0;34m=\u001b[0m\u001b[0mnombre\u001b[0m\u001b[0;34m.\u001b[0m\u001b[0mstrip\u001b[0m\u001b[0;34m(\u001b[0m\u001b[0;34m)\u001b[0m\u001b[0;34m\u001b[0m\u001b[0;34m\u001b[0m\u001b[0m\n\u001b[1;32m      6\u001b[0m    \u001b[0mdiccionario\u001b[0m\u001b[0;34m=\u001b[0m\u001b[0;34m[\u001b[0m\u001b[0;34m]\u001b[0m\u001b[0;34m\u001b[0m\u001b[0;34m\u001b[0m\u001b[0m\n\u001b[0;32m----> 7\u001b[0;31m    \u001b[0mdiccionario\u001b[0m\u001b[0;34m[\u001b[0m\u001b[0;34m\"nombre\"\u001b[0m\u001b[0;34m]\u001b[0m\u001b[0;34m=\u001b[0m\u001b[0mnombre\u001b[0m\u001b[0;34m\u001b[0m\u001b[0;34m\u001b[0m\u001b[0m\n\u001b[0m\u001b[1;32m      8\u001b[0m    \u001b[0mdiccionario\u001b[0m\u001b[0;34m[\u001b[0m\u001b[0;34m\"apellido\"\u001b[0m\u001b[0;34m]\u001b[0m \u001b[0;34m=\u001b[0m \u001b[0mapellido\u001b[0m\u001b[0;34m\u001b[0m\u001b[0;34m\u001b[0m\u001b[0m\n\u001b[1;32m      9\u001b[0m    \u001b[0mdiccionario\u001b[0m\u001b[0;34m[\u001b[0m\u001b[0;34m\"division\"\u001b[0m\u001b[0;34m]\u001b[0m\u001b[0;34m=\u001b[0m\u001b[0mdivision\u001b[0m\u001b[0;34m\u001b[0m\u001b[0;34m\u001b[0m\u001b[0m\n",
            "\u001b[0;31mTypeError\u001b[0m: list indices must be integers or slices, not str"
          ]
        }
      ]
    },
    {
      "cell_type": "markdown",
      "source": [
        "3. Genera un diccionario en python, en donde la clave sea cada nombre que aparece en las listas y el valor será la cantidad de veces que se encuentra el mismo.\n",
        "Para este punto es posible fusionar ambas listas en una sola, recordá que hay un método que realiza esta acción.\n",
        "\n",
        "Mostrá la informacion generada"
      ],
      "metadata": {
        "id": "UW2dlBsGMAte"
      }
    },
    {
      "cell_type": "code",
      "source": [
        "lista_nombres= []\n",
        "for estudiante in estudiantes:\n",
        "  nombre_completo= estudiante [0].replace(\",\",\"\").split()\n",
        "  lista_nombres.extend(nombre_completo)\n",
        "ocurrencias_nombres= {}\n",
        "for nombre in lista_nombres:\n",
        "  if nombre in ocurrencias_nombres.keys():\n",
        "   ocurrencias_nombres [nombre] += 1\n",
        "  else:\n",
        "   ocurrencias_nombres [nombre] = 1\n",
        "for nombre,ocurrencia in ocurrencias_nombres.items():\n",
        "   print(f\" El nombre {nombre} aparecio {ocurrencia}\")"
      ],
      "metadata": {
        "id": "EawAy4SANtkl",
        "outputId": "c782dfa3-e394-483b-c5b6-ac6c474f468d",
        "colab": {
          "base_uri": "https://localhost:8080/"
        }
      },
      "execution_count": null,
      "outputs": [
        {
          "output_type": "stream",
          "name": "stdout",
          "text": [
            " El nombre Abud aparecio 2\n",
            " El nombre Laspiur aparecio 2\n",
            " El nombre Lourdes aparecio 4\n",
            " El nombre Mariel aparecio 2\n",
            " El nombre Amador aparecio 2\n",
            " El nombre Luana aparecio 2\n",
            " El nombre Micaela aparecio 2\n",
            " El nombre Anaquin aparecio 2\n",
            " El nombre Leonardo aparecio 2\n",
            " El nombre Ezequiel aparecio 6\n",
            " El nombre Araoz aparecio 2\n",
            " El nombre Sanchez aparecio 3\n",
            " El nombre Lautaro aparecio 2\n",
            " El nombre Nahuel aparecio 2\n",
            " El nombre Argañaraz aparecio 2\n",
            " El nombre Agostina aparecio 4\n",
            " El nombre Abril aparecio 2\n",
            " El nombre Barrera aparecio 2\n",
            " El nombre Matias aparecio 2\n",
            " El nombre Barrozo aparecio 2\n",
            " El nombre Vedia aparecio 2\n",
            " El nombre Joaquin aparecio 2\n",
            " El nombre Nicolas aparecio 2\n",
            " El nombre Bettinelli aparecio 2\n",
            " El nombre Valentino aparecio 2\n",
            " El nombre Bracamonte aparecio 2\n",
            " El nombre Martinez aparecio 2\n",
            " El nombre Salvador aparecio 2\n",
            " El nombre Colque aparecio 2\n",
            " El nombre Rivero aparecio 2\n",
            " El nombre Ariana aparecio 2\n",
            " El nombre Zoe aparecio 2\n",
            " El nombre Del aparecio 2\n",
            " El nombre Valle aparecio 2\n",
            " El nombre Diaz aparecio 2\n",
            " El nombre Dulce aparecio 2\n",
            " El nombre Maitena aparecio 2\n",
            " El nombre Figueroa aparecio 2\n",
            " El nombre Santino aparecio 2\n",
            " El nombre Josue aparecio 2\n",
            " El nombre Flores aparecio 3\n",
            " El nombre Cardozo aparecio 2\n",
            " El nombre Agustina aparecio 2\n",
            " El nombre Tiara aparecio 2\n",
            " El nombre Gallo aparecio 2\n",
            " El nombre Octavio aparecio 2\n",
            " El nombre Ismael aparecio 2\n",
            " El nombre Galvan aparecio 2\n",
            " El nombre Yamila aparecio 2\n",
            " El nombre Giangreco aparecio 2\n",
            " El nombre Vitto aparecio 2\n",
            " El nombre Tomasso aparecio 2\n",
            " El nombre Grancara aparecio 2\n",
            " El nombre Martina aparecio 4\n",
            " El nombre Luna aparecio 2\n",
            " El nombre Guanca aparecio 2\n",
            " El nombre Sara aparecio 2\n",
            " El nombre Elizabeth aparecio 2\n",
            " El nombre Lopez aparecio 2\n",
            " El nombre Victoria aparecio 2\n",
            " El nombre Constanza aparecio 2\n",
            " El nombre Mamani aparecio 2\n",
            " El nombre Garrido aparecio 2\n",
            " El nombre Rosario aparecio 2\n",
            " El nombre Marinaro aparecio 2\n",
            " El nombre Martin aparecio 3\n",
            " El nombre Merluzzi aparecio 2\n",
            " El nombre Dagum aparecio 2\n",
            " El nombre Ignacio aparecio 2\n",
            " El nombre Messina aparecio 2\n",
            " El nombre Rasuk aparecio 2\n",
            " El nombre Karim aparecio 2\n",
            " El nombre Rios aparecio 2\n",
            " El nombre Lucia aparecio 2\n",
            " El nombre Magali aparecio 2\n",
            " El nombre Matías aparecio 1\n",
            " El nombre Agustín aparecio 1\n",
            " El nombre Scarano aparecio 1\n",
            " El nombre Renato aparecio 1\n",
            " El nombre Marcelo aparecio 1\n",
            " El nombre Sierra aparecio 1\n",
            " El nombre Lucas aparecio 1\n",
            " El nombre Mauricio aparecio 1\n",
            " El nombre Tapia aparecio 1\n",
            " El nombre Gabriel aparecio 1\n",
            " El nombre Vilte aparecio 1\n",
            " El nombre Mia aparecio 1\n",
            " El nombre Antonella aparecio 1\n",
            " El nombre Alondra aparecio 1\n",
            " El nombre Virgillito aparecio 1\n",
            " El nombre Katya aparecio 1\n",
            " El nombre Milena aparecio 1\n"
          ]
        }
      ]
    },
    {
      "cell_type": "markdown",
      "source": [
        "4. Genera un diccionario en python, en donde la clave sea cada apellido que aparece en las listas y el valor será la cantidad de veces que se encuentra el mismo.\n",
        "Para este punto es posible fusionar ambas listas en una sola, recordá que hay un método que realiza esta acción."
      ],
      "metadata": {
        "id": "kZeEHUYVNwGV"
      }
    },
    {
      "cell_type": "code",
      "source": [
        "lista_apellidos= []\n",
        "for estudiante in estudiantes:\n",
        "  apellido_completo= estudiante [0].replace(\",\",\"\").split()\n",
        "  lista_apellidos.extend(apellido_completo)\n",
        "\n",
        "ocurrencias_apellidos= {}\n",
        "for apellido in lista_apellidos:\n",
        "  if apellido in ocurrencias_apellidos.keys():\n",
        "   ocurrencias_apellidos [apellido] += 1\n",
        "  else:\n",
        "   ocurrencias_apellidos [apellido] = 1\n",
        "for apellido,ocurrencia in ocurrencias_apellidos.items():\n",
        "  print(f\" El apellido {apellido} aparecio {ocurrencia}\")"
      ],
      "metadata": {
        "id": "q05GnxXgORzt"
      },
      "execution_count": null,
      "outputs": []
    },
    {
      "cell_type": "markdown",
      "source": [
        "5. Solicita al usuario que ingrese un apellido y muestra  a todos los estudiantes con ese apellido."
      ],
      "metadata": {
        "id": "ywYmA2JQNp3T"
      }
    },
    {
      "cell_type": "code",
      "source": [
        "estudiantes= []\n",
        "apellido_ingresado = input(\"Por favor, ingresa el apellido: \")\n",
        "estudiantes_filtrados = [est for est in estudiantes if est[\"apellido\"] == apellido_ingresado]\n",
        "\n",
        "if estudiantes_filtrados:\n",
        "    print(f\"Estudiantes con el apellido {apellido_ingresado}:\")\n",
        "    for estudiante in estudiantes_filtrados:\n",
        "        print(f\"apellido: {estudiante['apellido']}, Edad: {estudiante['edad']}\")\n",
        "else:\n",
        "    print(f\"No se encontraron estudiantes con el apellido\")"
      ],
      "metadata": {
        "id": "Cnp334ZrOCjK"
      },
      "execution_count": null,
      "outputs": []
    },
    {
      "cell_type": "markdown",
      "source": [
        "6. Solicita al usuario que ingrese un nombre y muestra a todos los estudiantes con el nombre ingresado."
      ],
      "metadata": {
        "id": "iAXts6saODoU"
      }
    },
    {
      "cell_type": "code",
      "source": [
        "estudiantes= []\n",
        "nombre_ingresado = input(\"Por favor, ingresa el nombre: \")\n",
        "estudiantes_filtrados = [est for est in estudiantes if est[\"nombre\"] == nombre_ingresado]\n",
        "\n",
        "if estudiantes_filtrados:\n",
        "    print(f\"Estudiantes con el nombre {nombre_ingresado}:\")\n",
        "    for estudiante in estudiantes_filtrados:\n",
        "        print(f\"Nombre: {estudiante['nombre']}, Edad: {estudiante['edad']}\")\n",
        "else:\n",
        "    print(f\"No se encontraron estudiantes con el nombre {)"
      ],
      "metadata": {
        "id": "FMRsUlvtOJS_"
      },
      "execution_count": null,
      "outputs": []
    },
    {
      "cell_type": "code",
      "source": [
        "lista_dict= []\n",
        "nombre_ingresado = input(\"Por favor, ingresa el nombre: \")\n",
        "for nombre_ingresado in lista_dict:\n",
        "    print(\"nombre {lista_dict}\")"
      ],
      "metadata": {
        "id": "ras3MTlKQWYL"
      },
      "execution_count": null,
      "outputs": []
    },
    {
      "cell_type": "code",
      "source": [
        "\n",
        "estudiantes = []\n",
        "nombre_ingresado = input(\"Ingresa un nombre: \")\n",
        "estudiantes_filtrados = [estudiante for estudiante in estudiantes)\n",
        "if estudiante[\"nombre\"] == nombre_ingresado]\n",
        "\n",
        "if estudiantes_filtrados:\n",
        "    print(\"Estudiantes con el nombre\", nombre_ingresado, \":\")\n",
        "    for estudiante in estudiantes_filtrados:\n",
        "        print(estudiante)\n",
        "else:\n",
        "    print(\"No se encontraron estudiantes con el nombre\", nombre_ingresado)"
      ],
      "metadata": {
        "id": "XENMjy1xQbII"
      },
      "execution_count": null,
      "outputs": []
    },
    {
      "cell_type": "markdown",
      "source": [
        "7. Busca el diccionario con tu información dentro de la lista y cámbiate de división, de tal manera que si estas en 5C, con el cambio quedes en 5D y viceversa."
      ],
      "metadata": {
        "id": "T4PFiwwdOK27"
      }
    },
    {
      "cell_type": "code",
      "source": [
        "num = int(input(\"Ingrese un número: \"))\n",
        "salida = \"es par\" if num % 2 == 0 else \"es impar\"\n",
        "print(salida)"
      ],
      "metadata": {
        "id": "vjQ2X9x3OmFr"
      },
      "execution_count": null,
      "outputs": []
    },
    {
      "cell_type": "code",
      "source": [
        "\n",
        "nombre = input(\"ingrese su nombre: \").title()\n",
        "apellido = input(\"ingrese su apellido: \").title()\n",
        "i = 0\n",
        "while i<len(lista_dict):\n",
        "  if lista_dict[\"apellido\"] == apellido and lista_dict[\"nombre\"] == nombre:\n",
        "    break\n",
        "  else:\n",
        "    i+=1\n",
        "if i<len(lista_dict):\n",
        "  lista_dict[i][\"division\"] = \"C\" if lista_dict[i][\"division\"] == \"D\" else \"D\"\n",
        "\n",
        "  print(lista_dict)"
      ],
      "metadata": {
        "id": "XTgDPJKPQfl6"
      },
      "execution_count": null,
      "outputs": []
    },
    {
      "cell_type": "markdown",
      "source": [
        "8. Ordenar la lista alfabeticamente por nombre. Ascendente y descendentemente. Para elegir como ordenarla, mostrar un menú donde el usuario podrá decidir como quiere ver la salida."
      ],
      "metadata": {
        "id": "xfy8SFlZRVGf"
      }
    },
    {
      "cell_type": "code",
      "source": [
        "orden-input(\"Elija como ordenar la lista: \\nA. Ascendente InD. Descendente\").upper()\n",
        "if orden == \"A\":\n",
        "  lista_dict.sort(key=lambda x: x[\"nombre\"])\n",
        "  for estudiante in lista_dict:\n",
        "    print(estudiante)\n",
        "elif orden == \"D\":\n",
        "  lista_dict.sort(key=lambda x: x[\"nombre\"],reverse=True)\n",
        "  for estudiante in lista_dict:\n",
        "    print (estudiante)\n",
        "else:\n",
        "  print(\"Opcion invalida\")\n",
        "  orden=input(\"Elija como ordenar la lista: InA. Ascendente InD: Descendente\")"
      ],
      "metadata": {
        "id": "E4Onk1FNRUa2"
      },
      "execution_count": null,
      "outputs": []
    },
    {
      "cell_type": "markdown",
      "source": [
        "9. Ordenar la lista alfabeticamente por apellido. Ascendente y descendentemente. Para elegir como ordenarla, mostrar un menú donde el usuario podrá decidir como quiere ver la salida."
      ],
      "metadata": {
        "id": "lW18NgPjRcGP"
      }
    },
    {
      "cell_type": "code",
      "source": [
        "orden_2=input(\"Elija como ordenar la lista: \\nA. Ascendente por apellido \\nD. Descendente por apellido \").upper()\n",
        "if orden_2 == \"A\":\n",
        "  lista_dict.sort(key,=lambda x: x[\"apellido\"])\n",
        "  for estudiante in lista_dict:\n",
        "    print(estudiante)\n",
        "elif orden_2 == \"D\":\n",
        "  lista_dict.sort(key=lambda x: x[\"apellido\"),reverse=True)\n",
        "  for estudiante in lista_dict:\n",
        "    print(estudiante)\n",
        "else:\n",
        "  print(\"Opcion invalida\")"
      ],
      "metadata": {
        "id": "jTtWBnalRcoC"
      },
      "execution_count": null,
      "outputs": []
    },
    {
      "cell_type": "markdown",
      "source": [
        "10. Ordena la lista por fecha de nacimiento, de manera ascendente y descendente."
      ],
      "metadata": {
        "id": "E24lH7x5Xbur"
      }
    },
    {
      "cell_type": "code",
      "source": [
        "from datetime import datetime\n",
        "def convertir_fecha(fecha_str):\n",
        "    return datetime.strptime(fecha_str,\"Xd/Xn/Xy\").date()\n",
        "orden_4=input(\"Elija como ordenar la lista: \\nA. Ascendente por fecha de nacimiento \\nD. Descendiente por fecha de nacimiento\").upper()\n",
        "if orden_4 == \"A\":\n",
        "  lista_dict.sort(key=lambda x: convertir_fecha(x[\"fecha_nacimiento\"]))\n",
        "  for estudiante in lista_dict:\n",
        "    print (estudiante)\n",
        "elif orden_4 == \"D\":\n",
        "  lista_dict.sort(key=lamda x:convertir_fecha(x[\"fecha_nacimiento\"])),reverse=True)\n",
        "  for estudiante in lista_dict:\n",
        "    print(estudiante)\n",
        "else:\n",
        "  print(\"opción invalida\")\n",
        "  orden_4= input(\"elija como ordenar la lista: \\nA. Ascendente por facha de nacimiento \\nD. Descendente por fecha de nacimiento.\").upper()"
      ],
      "metadata": {
        "id": "9SeI3GBGXims"
      },
      "execution_count": null,
      "outputs": []
    },
    {
      "cell_type": "markdown",
      "source": [
        "11. Generar una estuctura de diccionario anidado en donde la clave sea el nombre del estudiante y el valor sea un diccionario con los datos del mismo, de la siguiente manera:\n",
        "\n",
        "\n",
        "\n",
        "\n",
        "```python\n",
        "estudiantes = {\n",
        "    \"Juan Perez\": {\n",
        "        \"año\": 2024,\n",
        "        \"división\": \"5D\",\n",
        "        \"fecha de nacimiento\": \"15/03/2006\"\n",
        "    },\n",
        "    \"Maria Gomez\": {\n",
        "        \"año\": 2024,\n",
        "        \"división\": \"5D\",\n",
        "        \"fecha de nacimiento\": \"22/07/2006\"\n",
        "    },\n",
        "    \"Carlos Lopez\": {\n",
        "        \"año\": 2024,\n",
        "        \"división\": \"5D\",\n",
        "        \"fecha de nacimiento\": \"05/10/2006\"\n",
        "    }\n",
        "}\n",
        "```\n",
        "\n",
        "\n",
        "\n",
        "\n"
      ],
      "metadata": {
        "id": "vOY6K_ydRc3Q"
      }
    },
    {
      "cell_type": "code",
      "source": [
        "estudiantes_2 = {}\n",
        "for estudiante in lista_dict:\n",
        "  nombre_completo= estudiante.get('nombre','') + ' ' + estudiante.get(\"apellido\", \"\")\n",
        "division, curso, fecha_nacimiento=estudiante.get(\"division\"), estudiante.get(\"curso\"), estudiante.get(\"fecha_nacimiento\")\n",
        "  dic={}\n",
        "  dic[\"division\"]=curso, division\n",
        "  dic[\"fecha_nacimiento\"]=fecha_nacimiento\n",
        "  dic[\"año\"]=2024\n",
        "  estudiantes_2[nombre_completo) = dic\n",
        "for estudiante, valor in estudiantes_2.items():\n",
        "  print(estudiante, valor)"
      ],
      "metadata": {
        "id": "9JDrd3WqRdTi"
      },
      "execution_count": null,
      "outputs": []
    }
  ]
}